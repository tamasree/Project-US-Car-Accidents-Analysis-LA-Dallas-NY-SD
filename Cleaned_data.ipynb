{
 "cells": [
  {
   "cell_type": "code",
   "execution_count": 1,
   "source": [
    "# Dependencies\n",
    "import pandas as pd\n",
    "from sqlalchemy import create_engine,inspect,extract\n",
    "from sqlalchemy.ext.automap import automap_base\n",
    "from sqlalchemy.orm import Session\n",
    "import datetime as dt\n",
    "from datetime import timedelta\n",
    "import numpy as np"
   ],
   "outputs": [],
   "metadata": {}
  },
  {
   "cell_type": "code",
   "execution_count": 2,
   "source": [
    "Accidents_df = pd.read_csv(\"USAccidents_Clean.csv\")\n",
    "Accidents_df.info()"
   ],
   "outputs": [
    {
     "output_type": "stream",
     "name": "stdout",
     "text": [
      "<class 'pandas.core.frame.DataFrame'>\n",
      "RangeIndex: 52690 entries, 0 to 52689\n",
      "Data columns (total 28 columns):\n",
      " #   Column             Non-Null Count  Dtype  \n",
      "---  ------             --------------  -----  \n",
      " 0   ID                 52690 non-null  object \n",
      " 1   Severity           52690 non-null  int64  \n",
      " 2   Start_Time         52690 non-null  object \n",
      " 3   End_Time           52690 non-null  object \n",
      " 4   Start_Lat          52690 non-null  float64\n",
      " 5   Start_Lng          52690 non-null  float64\n",
      " 6   Street             52690 non-null  object \n",
      " 7   City               52690 non-null  object \n",
      " 8   State              52690 non-null  object \n",
      " 9   Weather_Condition  52137 non-null  object \n",
      " 10  Wind_Speed(mph)    50877 non-null  float64\n",
      " 11  Precipitation(in)  51004 non-null  float64\n",
      " 12  Amenity            52690 non-null  bool   \n",
      " 13  Bump               52690 non-null  bool   \n",
      " 14  Crossing           52690 non-null  bool   \n",
      " 15  Give_Way           52690 non-null  bool   \n",
      " 16  Junction           52690 non-null  bool   \n",
      " 17  No_Exit            52690 non-null  bool   \n",
      " 18  Railway            52690 non-null  bool   \n",
      " 19  Roundabout         52690 non-null  bool   \n",
      " 20  Station            52690 non-null  bool   \n",
      " 21  Stop               52690 non-null  bool   \n",
      " 22  Traffic_Calming    52690 non-null  bool   \n",
      " 23  Traffic_Signal     52690 non-null  bool   \n",
      " 24  Turning_Loop       52690 non-null  bool   \n",
      " 25  Time               52690 non-null  object \n",
      " 26  StartDate          52690 non-null  object \n",
      " 27  Start_year         52690 non-null  int64  \n",
      "dtypes: bool(13), float64(4), int64(2), object(9)\n",
      "memory usage: 6.7+ MB\n"
     ]
    }
   ],
   "metadata": {}
  },
  {
   "cell_type": "code",
   "execution_count": 3,
   "source": [
    "Accidents_df.head()"
   ],
   "outputs": [
    {
     "output_type": "execute_result",
     "data": {
      "text/plain": [
       "          ID  Severity           Start_Time             End_Time  Start_Lat  \\\n",
       "0  A-2953990         2  2020-11-28 01:33:00  2020-11-28 03:13:16  33.963490   \n",
       "1  A-2953993         2  2020-11-07 12:05:00  2020-11-07 16:03:00  32.917963   \n",
       "2  A-2953994         2  2020-11-03 17:10:08  2020-11-03 18:00:58  32.921262   \n",
       "3  A-2954010         2  2020-11-10 02:32:00  2020-11-10 04:46:20  34.152964   \n",
       "4  A-2954063         2  2020-12-23 05:22:00  2020-12-23 11:31:41  34.071218   \n",
       "\n",
       "    Start_Lng             Street         City State Weather_Condition  ...  \\\n",
       "0 -118.370694  S La Cienega Blvd  Los Angeles    CA              Fair  ...   \n",
       "1  -96.856461            I-635 W       Dallas    TX              Fair  ...   \n",
       "2  -96.848712            I-635 W       Dallas    TX              Fair  ...   \n",
       "3 -118.278776           CA-134 E  Los Angeles    CA              Fair  ...   \n",
       "4 -118.235087        Stadium Way  Los Angeles    CA              Haze  ...   \n",
       "\n",
       "   Railway  Roundabout  Station   Stop  Traffic_Calming  Traffic_Signal  \\\n",
       "0    False       False    False   True            False            True   \n",
       "1    False       False    False  False            False           False   \n",
       "2    False       False    False  False            False           False   \n",
       "3    False       False    False  False            False           False   \n",
       "4    False       False    False  False            False           False   \n",
       "\n",
       "   Turning_Loop      Time   StartDate  Start_year  \n",
       "0         False  01:33:00  2020-11-28        2020  \n",
       "1         False  12:05:00  2020-11-07        2020  \n",
       "2         False  17:10:08  2020-11-03        2020  \n",
       "3         False  02:32:00  2020-11-10        2020  \n",
       "4         False  05:22:00  2020-12-23        2020  \n",
       "\n",
       "[5 rows x 28 columns]"
      ],
      "text/html": [
       "<div>\n",
       "<style scoped>\n",
       "    .dataframe tbody tr th:only-of-type {\n",
       "        vertical-align: middle;\n",
       "    }\n",
       "\n",
       "    .dataframe tbody tr th {\n",
       "        vertical-align: top;\n",
       "    }\n",
       "\n",
       "    .dataframe thead th {\n",
       "        text-align: right;\n",
       "    }\n",
       "</style>\n",
       "<table border=\"1\" class=\"dataframe\">\n",
       "  <thead>\n",
       "    <tr style=\"text-align: right;\">\n",
       "      <th></th>\n",
       "      <th>ID</th>\n",
       "      <th>Severity</th>\n",
       "      <th>Start_Time</th>\n",
       "      <th>End_Time</th>\n",
       "      <th>Start_Lat</th>\n",
       "      <th>Start_Lng</th>\n",
       "      <th>Street</th>\n",
       "      <th>City</th>\n",
       "      <th>State</th>\n",
       "      <th>Weather_Condition</th>\n",
       "      <th>...</th>\n",
       "      <th>Railway</th>\n",
       "      <th>Roundabout</th>\n",
       "      <th>Station</th>\n",
       "      <th>Stop</th>\n",
       "      <th>Traffic_Calming</th>\n",
       "      <th>Traffic_Signal</th>\n",
       "      <th>Turning_Loop</th>\n",
       "      <th>Time</th>\n",
       "      <th>StartDate</th>\n",
       "      <th>Start_year</th>\n",
       "    </tr>\n",
       "  </thead>\n",
       "  <tbody>\n",
       "    <tr>\n",
       "      <th>0</th>\n",
       "      <td>A-2953990</td>\n",
       "      <td>2</td>\n",
       "      <td>2020-11-28 01:33:00</td>\n",
       "      <td>2020-11-28 03:13:16</td>\n",
       "      <td>33.963490</td>\n",
       "      <td>-118.370694</td>\n",
       "      <td>S La Cienega Blvd</td>\n",
       "      <td>Los Angeles</td>\n",
       "      <td>CA</td>\n",
       "      <td>Fair</td>\n",
       "      <td>...</td>\n",
       "      <td>False</td>\n",
       "      <td>False</td>\n",
       "      <td>False</td>\n",
       "      <td>True</td>\n",
       "      <td>False</td>\n",
       "      <td>True</td>\n",
       "      <td>False</td>\n",
       "      <td>01:33:00</td>\n",
       "      <td>2020-11-28</td>\n",
       "      <td>2020</td>\n",
       "    </tr>\n",
       "    <tr>\n",
       "      <th>1</th>\n",
       "      <td>A-2953993</td>\n",
       "      <td>2</td>\n",
       "      <td>2020-11-07 12:05:00</td>\n",
       "      <td>2020-11-07 16:03:00</td>\n",
       "      <td>32.917963</td>\n",
       "      <td>-96.856461</td>\n",
       "      <td>I-635 W</td>\n",
       "      <td>Dallas</td>\n",
       "      <td>TX</td>\n",
       "      <td>Fair</td>\n",
       "      <td>...</td>\n",
       "      <td>False</td>\n",
       "      <td>False</td>\n",
       "      <td>False</td>\n",
       "      <td>False</td>\n",
       "      <td>False</td>\n",
       "      <td>False</td>\n",
       "      <td>False</td>\n",
       "      <td>12:05:00</td>\n",
       "      <td>2020-11-07</td>\n",
       "      <td>2020</td>\n",
       "    </tr>\n",
       "    <tr>\n",
       "      <th>2</th>\n",
       "      <td>A-2953994</td>\n",
       "      <td>2</td>\n",
       "      <td>2020-11-03 17:10:08</td>\n",
       "      <td>2020-11-03 18:00:58</td>\n",
       "      <td>32.921262</td>\n",
       "      <td>-96.848712</td>\n",
       "      <td>I-635 W</td>\n",
       "      <td>Dallas</td>\n",
       "      <td>TX</td>\n",
       "      <td>Fair</td>\n",
       "      <td>...</td>\n",
       "      <td>False</td>\n",
       "      <td>False</td>\n",
       "      <td>False</td>\n",
       "      <td>False</td>\n",
       "      <td>False</td>\n",
       "      <td>False</td>\n",
       "      <td>False</td>\n",
       "      <td>17:10:08</td>\n",
       "      <td>2020-11-03</td>\n",
       "      <td>2020</td>\n",
       "    </tr>\n",
       "    <tr>\n",
       "      <th>3</th>\n",
       "      <td>A-2954010</td>\n",
       "      <td>2</td>\n",
       "      <td>2020-11-10 02:32:00</td>\n",
       "      <td>2020-11-10 04:46:20</td>\n",
       "      <td>34.152964</td>\n",
       "      <td>-118.278776</td>\n",
       "      <td>CA-134 E</td>\n",
       "      <td>Los Angeles</td>\n",
       "      <td>CA</td>\n",
       "      <td>Fair</td>\n",
       "      <td>...</td>\n",
       "      <td>False</td>\n",
       "      <td>False</td>\n",
       "      <td>False</td>\n",
       "      <td>False</td>\n",
       "      <td>False</td>\n",
       "      <td>False</td>\n",
       "      <td>False</td>\n",
       "      <td>02:32:00</td>\n",
       "      <td>2020-11-10</td>\n",
       "      <td>2020</td>\n",
       "    </tr>\n",
       "    <tr>\n",
       "      <th>4</th>\n",
       "      <td>A-2954063</td>\n",
       "      <td>2</td>\n",
       "      <td>2020-12-23 05:22:00</td>\n",
       "      <td>2020-12-23 11:31:41</td>\n",
       "      <td>34.071218</td>\n",
       "      <td>-118.235087</td>\n",
       "      <td>Stadium Way</td>\n",
       "      <td>Los Angeles</td>\n",
       "      <td>CA</td>\n",
       "      <td>Haze</td>\n",
       "      <td>...</td>\n",
       "      <td>False</td>\n",
       "      <td>False</td>\n",
       "      <td>False</td>\n",
       "      <td>False</td>\n",
       "      <td>False</td>\n",
       "      <td>False</td>\n",
       "      <td>False</td>\n",
       "      <td>05:22:00</td>\n",
       "      <td>2020-12-23</td>\n",
       "      <td>2020</td>\n",
       "    </tr>\n",
       "  </tbody>\n",
       "</table>\n",
       "<p>5 rows × 28 columns</p>\n",
       "</div>"
      ]
     },
     "metadata": {},
     "execution_count": 3
    }
   ],
   "metadata": {}
  },
  {
   "cell_type": "code",
   "execution_count": 4,
   "source": [
    "pd.set_option('display.max_columns', None)"
   ],
   "outputs": [],
   "metadata": {}
  },
  {
   "cell_type": "code",
   "execution_count": 5,
   "source": [
    "Accidents_df['StartDate']=pd.to_datetime(Accidents_df['StartDate'])\n",
    "#Accidents_df['StartDate']"
   ],
   "outputs": [],
   "metadata": {}
  },
  {
   "cell_type": "code",
   "execution_count": 6,
   "source": [
    "Accidents_df['Start_Time']=pd.to_datetime(Accidents_df['Start_Time'],format='%Y/%m/%d %H:%M:%S',errors='coerce')"
   ],
   "outputs": [],
   "metadata": {}
  },
  {
   "cell_type": "code",
   "execution_count": 7,
   "source": [
    "Accidents_df['End_Time']=pd.to_datetime(Accidents_df['End_Time'],format='%Y/%m/%d %H:%M:%S',errors='coerce')"
   ],
   "outputs": [],
   "metadata": {}
  },
  {
   "cell_type": "code",
   "execution_count": 8,
   "source": [
    "Accidents_df.drop(columns=['Wind_Speed(mph)', 'Precipitation(in)'],inplace=True)"
   ],
   "outputs": [],
   "metadata": {}
  },
  {
   "cell_type": "code",
   "execution_count": 9,
   "source": [
    "Accidents_df.columns"
   ],
   "outputs": [
    {
     "output_type": "execute_result",
     "data": {
      "text/plain": [
       "Index(['ID', 'Severity', 'Start_Time', 'End_Time', 'Start_Lat', 'Start_Lng',\n",
       "       'Street', 'City', 'State', 'Weather_Condition', 'Amenity', 'Bump',\n",
       "       'Crossing', 'Give_Way', 'Junction', 'No_Exit', 'Railway', 'Roundabout',\n",
       "       'Station', 'Stop', 'Traffic_Calming', 'Traffic_Signal', 'Turning_Loop',\n",
       "       'Time', 'StartDate', 'Start_year'],\n",
       "      dtype='object')"
      ]
     },
     "metadata": {},
     "execution_count": 9
    }
   ],
   "metadata": {}
  },
  {
   "cell_type": "code",
   "execution_count": 10,
   "source": [
    "Accidents_df.rename(columns={\"ID\":\"Accident_id\",\n",
    "                            \"Start_year\":\"Year\"},inplace=True)"
   ],
   "outputs": [],
   "metadata": {}
  },
  {
   "cell_type": "code",
   "execution_count": 11,
   "source": [
    "Accidents_df.head()"
   ],
   "outputs": [
    {
     "output_type": "execute_result",
     "data": {
      "text/plain": [
       "  Accident_id  Severity          Start_Time            End_Time  Start_Lat  \\\n",
       "0   A-2953990         2 2020-11-28 01:33:00 2020-11-28 03:13:16  33.963490   \n",
       "1   A-2953993         2 2020-11-07 12:05:00 2020-11-07 16:03:00  32.917963   \n",
       "2   A-2953994         2 2020-11-03 17:10:08 2020-11-03 18:00:58  32.921262   \n",
       "3   A-2954010         2 2020-11-10 02:32:00 2020-11-10 04:46:20  34.152964   \n",
       "4   A-2954063         2 2020-12-23 05:22:00 2020-12-23 11:31:41  34.071218   \n",
       "\n",
       "    Start_Lng             Street         City State Weather_Condition  \\\n",
       "0 -118.370694  S La Cienega Blvd  Los Angeles    CA              Fair   \n",
       "1  -96.856461            I-635 W       Dallas    TX              Fair   \n",
       "2  -96.848712            I-635 W       Dallas    TX              Fair   \n",
       "3 -118.278776           CA-134 E  Los Angeles    CA              Fair   \n",
       "4 -118.235087        Stadium Way  Los Angeles    CA              Haze   \n",
       "\n",
       "   Amenity   Bump  Crossing  Give_Way  Junction  No_Exit  Railway  Roundabout  \\\n",
       "0    False  False     False     False     False    False    False       False   \n",
       "1    False  False     False     False     False    False    False       False   \n",
       "2    False  False     False     False     False    False    False       False   \n",
       "3    False  False     False     False     False    False    False       False   \n",
       "4    False  False     False     False     False    False    False       False   \n",
       "\n",
       "   Station   Stop  Traffic_Calming  Traffic_Signal  Turning_Loop      Time  \\\n",
       "0    False   True            False            True         False  01:33:00   \n",
       "1    False  False            False           False         False  12:05:00   \n",
       "2    False  False            False           False         False  17:10:08   \n",
       "3    False  False            False           False         False  02:32:00   \n",
       "4    False  False            False           False         False  05:22:00   \n",
       "\n",
       "   StartDate  Year  \n",
       "0 2020-11-28  2020  \n",
       "1 2020-11-07  2020  \n",
       "2 2020-11-03  2020  \n",
       "3 2020-11-10  2020  \n",
       "4 2020-12-23  2020  "
      ],
      "text/html": [
       "<div>\n",
       "<style scoped>\n",
       "    .dataframe tbody tr th:only-of-type {\n",
       "        vertical-align: middle;\n",
       "    }\n",
       "\n",
       "    .dataframe tbody tr th {\n",
       "        vertical-align: top;\n",
       "    }\n",
       "\n",
       "    .dataframe thead th {\n",
       "        text-align: right;\n",
       "    }\n",
       "</style>\n",
       "<table border=\"1\" class=\"dataframe\">\n",
       "  <thead>\n",
       "    <tr style=\"text-align: right;\">\n",
       "      <th></th>\n",
       "      <th>Accident_id</th>\n",
       "      <th>Severity</th>\n",
       "      <th>Start_Time</th>\n",
       "      <th>End_Time</th>\n",
       "      <th>Start_Lat</th>\n",
       "      <th>Start_Lng</th>\n",
       "      <th>Street</th>\n",
       "      <th>City</th>\n",
       "      <th>State</th>\n",
       "      <th>Weather_Condition</th>\n",
       "      <th>Amenity</th>\n",
       "      <th>Bump</th>\n",
       "      <th>Crossing</th>\n",
       "      <th>Give_Way</th>\n",
       "      <th>Junction</th>\n",
       "      <th>No_Exit</th>\n",
       "      <th>Railway</th>\n",
       "      <th>Roundabout</th>\n",
       "      <th>Station</th>\n",
       "      <th>Stop</th>\n",
       "      <th>Traffic_Calming</th>\n",
       "      <th>Traffic_Signal</th>\n",
       "      <th>Turning_Loop</th>\n",
       "      <th>Time</th>\n",
       "      <th>StartDate</th>\n",
       "      <th>Year</th>\n",
       "    </tr>\n",
       "  </thead>\n",
       "  <tbody>\n",
       "    <tr>\n",
       "      <th>0</th>\n",
       "      <td>A-2953990</td>\n",
       "      <td>2</td>\n",
       "      <td>2020-11-28 01:33:00</td>\n",
       "      <td>2020-11-28 03:13:16</td>\n",
       "      <td>33.963490</td>\n",
       "      <td>-118.370694</td>\n",
       "      <td>S La Cienega Blvd</td>\n",
       "      <td>Los Angeles</td>\n",
       "      <td>CA</td>\n",
       "      <td>Fair</td>\n",
       "      <td>False</td>\n",
       "      <td>False</td>\n",
       "      <td>False</td>\n",
       "      <td>False</td>\n",
       "      <td>False</td>\n",
       "      <td>False</td>\n",
       "      <td>False</td>\n",
       "      <td>False</td>\n",
       "      <td>False</td>\n",
       "      <td>True</td>\n",
       "      <td>False</td>\n",
       "      <td>True</td>\n",
       "      <td>False</td>\n",
       "      <td>01:33:00</td>\n",
       "      <td>2020-11-28</td>\n",
       "      <td>2020</td>\n",
       "    </tr>\n",
       "    <tr>\n",
       "      <th>1</th>\n",
       "      <td>A-2953993</td>\n",
       "      <td>2</td>\n",
       "      <td>2020-11-07 12:05:00</td>\n",
       "      <td>2020-11-07 16:03:00</td>\n",
       "      <td>32.917963</td>\n",
       "      <td>-96.856461</td>\n",
       "      <td>I-635 W</td>\n",
       "      <td>Dallas</td>\n",
       "      <td>TX</td>\n",
       "      <td>Fair</td>\n",
       "      <td>False</td>\n",
       "      <td>False</td>\n",
       "      <td>False</td>\n",
       "      <td>False</td>\n",
       "      <td>False</td>\n",
       "      <td>False</td>\n",
       "      <td>False</td>\n",
       "      <td>False</td>\n",
       "      <td>False</td>\n",
       "      <td>False</td>\n",
       "      <td>False</td>\n",
       "      <td>False</td>\n",
       "      <td>False</td>\n",
       "      <td>12:05:00</td>\n",
       "      <td>2020-11-07</td>\n",
       "      <td>2020</td>\n",
       "    </tr>\n",
       "    <tr>\n",
       "      <th>2</th>\n",
       "      <td>A-2953994</td>\n",
       "      <td>2</td>\n",
       "      <td>2020-11-03 17:10:08</td>\n",
       "      <td>2020-11-03 18:00:58</td>\n",
       "      <td>32.921262</td>\n",
       "      <td>-96.848712</td>\n",
       "      <td>I-635 W</td>\n",
       "      <td>Dallas</td>\n",
       "      <td>TX</td>\n",
       "      <td>Fair</td>\n",
       "      <td>False</td>\n",
       "      <td>False</td>\n",
       "      <td>False</td>\n",
       "      <td>False</td>\n",
       "      <td>False</td>\n",
       "      <td>False</td>\n",
       "      <td>False</td>\n",
       "      <td>False</td>\n",
       "      <td>False</td>\n",
       "      <td>False</td>\n",
       "      <td>False</td>\n",
       "      <td>False</td>\n",
       "      <td>False</td>\n",
       "      <td>17:10:08</td>\n",
       "      <td>2020-11-03</td>\n",
       "      <td>2020</td>\n",
       "    </tr>\n",
       "    <tr>\n",
       "      <th>3</th>\n",
       "      <td>A-2954010</td>\n",
       "      <td>2</td>\n",
       "      <td>2020-11-10 02:32:00</td>\n",
       "      <td>2020-11-10 04:46:20</td>\n",
       "      <td>34.152964</td>\n",
       "      <td>-118.278776</td>\n",
       "      <td>CA-134 E</td>\n",
       "      <td>Los Angeles</td>\n",
       "      <td>CA</td>\n",
       "      <td>Fair</td>\n",
       "      <td>False</td>\n",
       "      <td>False</td>\n",
       "      <td>False</td>\n",
       "      <td>False</td>\n",
       "      <td>False</td>\n",
       "      <td>False</td>\n",
       "      <td>False</td>\n",
       "      <td>False</td>\n",
       "      <td>False</td>\n",
       "      <td>False</td>\n",
       "      <td>False</td>\n",
       "      <td>False</td>\n",
       "      <td>False</td>\n",
       "      <td>02:32:00</td>\n",
       "      <td>2020-11-10</td>\n",
       "      <td>2020</td>\n",
       "    </tr>\n",
       "    <tr>\n",
       "      <th>4</th>\n",
       "      <td>A-2954063</td>\n",
       "      <td>2</td>\n",
       "      <td>2020-12-23 05:22:00</td>\n",
       "      <td>2020-12-23 11:31:41</td>\n",
       "      <td>34.071218</td>\n",
       "      <td>-118.235087</td>\n",
       "      <td>Stadium Way</td>\n",
       "      <td>Los Angeles</td>\n",
       "      <td>CA</td>\n",
       "      <td>Haze</td>\n",
       "      <td>False</td>\n",
       "      <td>False</td>\n",
       "      <td>False</td>\n",
       "      <td>False</td>\n",
       "      <td>False</td>\n",
       "      <td>False</td>\n",
       "      <td>False</td>\n",
       "      <td>False</td>\n",
       "      <td>False</td>\n",
       "      <td>False</td>\n",
       "      <td>False</td>\n",
       "      <td>False</td>\n",
       "      <td>False</td>\n",
       "      <td>05:22:00</td>\n",
       "      <td>2020-12-23</td>\n",
       "      <td>2020</td>\n",
       "    </tr>\n",
       "  </tbody>\n",
       "</table>\n",
       "</div>"
      ]
     },
     "metadata": {},
     "execution_count": 11
    }
   ],
   "metadata": {}
  },
  {
   "cell_type": "code",
   "execution_count": 12,
   "source": [
    "Accidents_df.info()"
   ],
   "outputs": [
    {
     "output_type": "stream",
     "name": "stdout",
     "text": [
      "<class 'pandas.core.frame.DataFrame'>\n",
      "RangeIndex: 52690 entries, 0 to 52689\n",
      "Data columns (total 26 columns):\n",
      " #   Column             Non-Null Count  Dtype         \n",
      "---  ------             --------------  -----         \n",
      " 0   Accident_id        52690 non-null  object        \n",
      " 1   Severity           52690 non-null  int64         \n",
      " 2   Start_Time         52690 non-null  datetime64[ns]\n",
      " 3   End_Time           52690 non-null  datetime64[ns]\n",
      " 4   Start_Lat          52690 non-null  float64       \n",
      " 5   Start_Lng          52690 non-null  float64       \n",
      " 6   Street             52690 non-null  object        \n",
      " 7   City               52690 non-null  object        \n",
      " 8   State              52690 non-null  object        \n",
      " 9   Weather_Condition  52137 non-null  object        \n",
      " 10  Amenity            52690 non-null  bool          \n",
      " 11  Bump               52690 non-null  bool          \n",
      " 12  Crossing           52690 non-null  bool          \n",
      " 13  Give_Way           52690 non-null  bool          \n",
      " 14  Junction           52690 non-null  bool          \n",
      " 15  No_Exit            52690 non-null  bool          \n",
      " 16  Railway            52690 non-null  bool          \n",
      " 17  Roundabout         52690 non-null  bool          \n",
      " 18  Station            52690 non-null  bool          \n",
      " 19  Stop               52690 non-null  bool          \n",
      " 20  Traffic_Calming    52690 non-null  bool          \n",
      " 21  Traffic_Signal     52690 non-null  bool          \n",
      " 22  Turning_Loop       52690 non-null  bool          \n",
      " 23  Time               52690 non-null  object        \n",
      " 24  StartDate          52690 non-null  datetime64[ns]\n",
      " 25  Year               52690 non-null  int64         \n",
      "dtypes: bool(13), datetime64[ns](3), float64(2), int64(2), object(6)\n",
      "memory usage: 5.9+ MB\n"
     ]
    }
   ],
   "metadata": {}
  },
  {
   "cell_type": "code",
   "execution_count": 13,
   "source": [
    "Weather_df = pd.read_csv(\"WeatherData.csv\")\n",
    "Weather_df.head()"
   ],
   "outputs": [
    {
     "output_type": "execute_result",
     "data": {
      "text/plain": [
       "          ID  Severity Weather_Condition         City State  \\\n",
       "0  A-2953990         2              Fair  Los Angeles    CA   \n",
       "1  A-2953993         2              Fair       Dallas    TX   \n",
       "2  A-2953994         2              Fair       Dallas    TX   \n",
       "3  A-2954010         2              Fair  Los Angeles    CA   \n",
       "4  A-2954063         2              Haze  Los Angeles    CA   \n",
       "\n",
       "            Start_Time  Wind_Speed(mph)  Precipitation(in)        Year  \\\n",
       "0  2020-11-28 01:33:00              0.0                0.0  2020-11-28   \n",
       "1  2020-11-07 12:05:00              7.0                0.0  2020-11-07   \n",
       "2  2020-11-03 17:10:08             12.0                0.0  2020-11-03   \n",
       "3  2020-11-10 02:32:00              0.0                0.0  2020-11-10   \n",
       "4  2020-12-23 05:22:00              3.0                0.0  2020-12-23   \n",
       "\n",
       "   AccYear  \n",
       "0     2020  \n",
       "1     2020  \n",
       "2     2020  \n",
       "3     2020  \n",
       "4     2020  "
      ],
      "text/html": [
       "<div>\n",
       "<style scoped>\n",
       "    .dataframe tbody tr th:only-of-type {\n",
       "        vertical-align: middle;\n",
       "    }\n",
       "\n",
       "    .dataframe tbody tr th {\n",
       "        vertical-align: top;\n",
       "    }\n",
       "\n",
       "    .dataframe thead th {\n",
       "        text-align: right;\n",
       "    }\n",
       "</style>\n",
       "<table border=\"1\" class=\"dataframe\">\n",
       "  <thead>\n",
       "    <tr style=\"text-align: right;\">\n",
       "      <th></th>\n",
       "      <th>ID</th>\n",
       "      <th>Severity</th>\n",
       "      <th>Weather_Condition</th>\n",
       "      <th>City</th>\n",
       "      <th>State</th>\n",
       "      <th>Start_Time</th>\n",
       "      <th>Wind_Speed(mph)</th>\n",
       "      <th>Precipitation(in)</th>\n",
       "      <th>Year</th>\n",
       "      <th>AccYear</th>\n",
       "    </tr>\n",
       "  </thead>\n",
       "  <tbody>\n",
       "    <tr>\n",
       "      <th>0</th>\n",
       "      <td>A-2953990</td>\n",
       "      <td>2</td>\n",
       "      <td>Fair</td>\n",
       "      <td>Los Angeles</td>\n",
       "      <td>CA</td>\n",
       "      <td>2020-11-28 01:33:00</td>\n",
       "      <td>0.0</td>\n",
       "      <td>0.0</td>\n",
       "      <td>2020-11-28</td>\n",
       "      <td>2020</td>\n",
       "    </tr>\n",
       "    <tr>\n",
       "      <th>1</th>\n",
       "      <td>A-2953993</td>\n",
       "      <td>2</td>\n",
       "      <td>Fair</td>\n",
       "      <td>Dallas</td>\n",
       "      <td>TX</td>\n",
       "      <td>2020-11-07 12:05:00</td>\n",
       "      <td>7.0</td>\n",
       "      <td>0.0</td>\n",
       "      <td>2020-11-07</td>\n",
       "      <td>2020</td>\n",
       "    </tr>\n",
       "    <tr>\n",
       "      <th>2</th>\n",
       "      <td>A-2953994</td>\n",
       "      <td>2</td>\n",
       "      <td>Fair</td>\n",
       "      <td>Dallas</td>\n",
       "      <td>TX</td>\n",
       "      <td>2020-11-03 17:10:08</td>\n",
       "      <td>12.0</td>\n",
       "      <td>0.0</td>\n",
       "      <td>2020-11-03</td>\n",
       "      <td>2020</td>\n",
       "    </tr>\n",
       "    <tr>\n",
       "      <th>3</th>\n",
       "      <td>A-2954010</td>\n",
       "      <td>2</td>\n",
       "      <td>Fair</td>\n",
       "      <td>Los Angeles</td>\n",
       "      <td>CA</td>\n",
       "      <td>2020-11-10 02:32:00</td>\n",
       "      <td>0.0</td>\n",
       "      <td>0.0</td>\n",
       "      <td>2020-11-10</td>\n",
       "      <td>2020</td>\n",
       "    </tr>\n",
       "    <tr>\n",
       "      <th>4</th>\n",
       "      <td>A-2954063</td>\n",
       "      <td>2</td>\n",
       "      <td>Haze</td>\n",
       "      <td>Los Angeles</td>\n",
       "      <td>CA</td>\n",
       "      <td>2020-12-23 05:22:00</td>\n",
       "      <td>3.0</td>\n",
       "      <td>0.0</td>\n",
       "      <td>2020-12-23</td>\n",
       "      <td>2020</td>\n",
       "    </tr>\n",
       "  </tbody>\n",
       "</table>\n",
       "</div>"
      ]
     },
     "metadata": {},
     "execution_count": 13
    }
   ],
   "metadata": {}
  },
  {
   "cell_type": "code",
   "execution_count": 14,
   "source": [
    "Weather_df.rename(columns={\"ID\":\"Accident_id\",\n",
    "                            \"Precipitation(in)\":\"Precipitation\",\n",
    "                          \"Wind_Speed(mph)\":\"Wind_Speed\",\n",
    "                          \"Year\":\"StartDate\",\n",
    "                          \"AccYear\":\"Year\"},inplace=True)"
   ],
   "outputs": [],
   "metadata": {}
  },
  {
   "cell_type": "code",
   "execution_count": 15,
   "source": [
    "Weather_df['Year']=Weather_df['Year'].astype(int)\n",
    "Weather_df['StartDate']=pd.to_datetime(Weather_df['StartDate'])"
   ],
   "outputs": [],
   "metadata": {}
  },
  {
   "cell_type": "code",
   "execution_count": 16,
   "source": [
    "Weather_df['Start_Time']=pd.to_datetime(Weather_df['Start_Time'],format='%Y-%m-%d %H:%M:%S',errors='coerce')"
   ],
   "outputs": [],
   "metadata": {}
  },
  {
   "cell_type": "code",
   "execution_count": 17,
   "source": [
    "Weather_df.info()"
   ],
   "outputs": [
    {
     "output_type": "stream",
     "name": "stdout",
     "text": [
      "<class 'pandas.core.frame.DataFrame'>\n",
      "RangeIndex: 52690 entries, 0 to 52689\n",
      "Data columns (total 10 columns):\n",
      " #   Column             Non-Null Count  Dtype         \n",
      "---  ------             --------------  -----         \n",
      " 0   Accident_id        52690 non-null  object        \n",
      " 1   Severity           52690 non-null  int64         \n",
      " 2   Weather_Condition  52137 non-null  object        \n",
      " 3   City               52690 non-null  object        \n",
      " 4   State              52690 non-null  object        \n",
      " 5   Start_Time         52690 non-null  datetime64[ns]\n",
      " 6   Wind_Speed         50877 non-null  float64       \n",
      " 7   Precipitation      51004 non-null  float64       \n",
      " 8   StartDate          52690 non-null  datetime64[ns]\n",
      " 9   Year               52690 non-null  int64         \n",
      "dtypes: datetime64[ns](2), float64(2), int64(2), object(4)\n",
      "memory usage: 4.0+ MB\n"
     ]
    }
   ],
   "metadata": {}
  },
  {
   "cell_type": "code",
   "execution_count": null,
   "source": [],
   "outputs": [],
   "metadata": {}
  },
  {
   "cell_type": "code",
   "execution_count": null,
   "source": [],
   "outputs": [],
   "metadata": {}
  },
  {
   "cell_type": "markdown",
   "source": [
    "### uploading dataframe to sqlite database"
   ],
   "metadata": {}
  },
  {
   "cell_type": "code",
   "execution_count": 18,
   "source": [
    "from sqlalchemy import Column, Integer, String, Float,BigInteger,Boolean\n",
    "from sqlalchemy.ext.declarative import declarative_base\n",
    "from sqlalchemy import func\n",
    "Base=declarative_base()"
   ],
   "outputs": [],
   "metadata": {}
  },
  {
   "cell_type": "code",
   "execution_count": 19,
   "source": [
    "class USAccidents(Base):\n",
    "    __tablename__='us_accidents'\n",
    "    id = Column(Integer, primary_key=True)\n",
    "    Accident_id= Column(String)\n",
    "    Severity= Column(Integer)\n",
    "    Start_Time=Column(String)\n",
    "    End_Time= Column(String)\n",
    "    Start_Lat= Column(Float)\n",
    "    Start_Lng= Column(Float)\n",
    "    Street=Column(String)\n",
    "    City =Column(String)\n",
    "    State= Column(String)\n",
    "    Weather_Condition=Column(String)\n",
    "    Amenity= Column(Boolean)\n",
    "    Bump=Column(Boolean) \n",
    "    Crossing= Column(Boolean)\n",
    "    Give_Way=Column(Boolean)\n",
    "    Junction=Column(Boolean) \n",
    "    No_Exit =Column(Boolean)\n",
    "    Railway =Column(Boolean)\n",
    "    Roundabout=Column(Boolean) \n",
    "    Station =Column(Boolean)\n",
    "    Stop =Column(Boolean)\n",
    "    Traffic_Calming=Column(Boolean)\n",
    "    Traffic_Signal= Column(Boolean)\n",
    "    Turning_Loop =Column(Boolean)\n",
    "    Time= Column(String)\n",
    "    StartDate=Column(String)\n",
    "    Year= Column(Integer)"
   ],
   "outputs": [],
   "metadata": {}
  },
  {
   "cell_type": "code",
   "execution_count": 20,
   "source": [
    "class USWeather(Base):\n",
    "    __tablename__='us_weather'\n",
    "    id = Column(Integer, primary_key=True)\n",
    "    Accident_id = Column(String)\n",
    "    Severity=Column(Integer)\n",
    "    Weather_Condition =Column(String)         \n",
    "    Precipitation= Column(Float)             \n",
    "    Wind_Speed = Column(Float)               \n",
    "    Start_Time = Column(String)         \n",
    "    City = Column(String)                     \n",
    "    State = Column(String)                    \n",
    "    StartDate = Column(String)         \n",
    "    Year =Column(Integer)              \n",
    "    \n",
    "    "
   ],
   "outputs": [],
   "metadata": {}
  },
  {
   "cell_type": "code",
   "execution_count": 21,
   "source": [
    "engine = create_engine('sqlite:///us_accidents.db', echo=False)\n",
    "conn=engine.connect()\n",
    "Base.metadata.create_all(engine)"
   ],
   "outputs": [],
   "metadata": {}
  },
  {
   "cell_type": "code",
   "execution_count": 22,
   "source": [
    "Accidents_df.to_sql('us_accidents', con=engine,if_exists=\"append\",index=False)\n",
    "Base.metadata.create_all(engine)"
   ],
   "outputs": [],
   "metadata": {}
  },
  {
   "cell_type": "code",
   "execution_count": 23,
   "source": [
    "Weather_df.to_sql('us_weather', con=engine,if_exists=\"append\",index=False)\n",
    "Base.metadata.create_all(engine)"
   ],
   "outputs": [],
   "metadata": {}
  },
  {
   "cell_type": "code",
   "execution_count": 24,
   "source": [
    "engine = create_engine('sqlite:///us_accidents.db', echo=False)\n",
    "conn=engine.connect()"
   ],
   "outputs": [],
   "metadata": {}
  },
  {
   "cell_type": "code",
   "execution_count": 25,
   "source": [
    "#conn.execute(\"DROP TABLE us_accidents \")"
   ],
   "outputs": [],
   "metadata": {
    "tags": []
   }
  },
  {
   "cell_type": "code",
   "execution_count": 26,
   "source": [
    "#conn.execute(\"DROP TABLE us_weather \")"
   ],
   "outputs": [],
   "metadata": {}
  },
  {
   "cell_type": "code",
   "execution_count": 27,
   "source": [
    "inspector = inspect(engine)"
   ],
   "outputs": [],
   "metadata": {}
  },
  {
   "cell_type": "code",
   "execution_count": 28,
   "source": [
    "#conn.execute(\"DROP TABLE us_accidents \")"
   ],
   "outputs": [],
   "metadata": {}
  },
  {
   "cell_type": "code",
   "execution_count": 29,
   "source": [
    "columns = inspector.get_columns('us_weather')\n",
    "for column in columns:\n",
    "    print(column[\"name\"], column[\"type\"])"
   ],
   "outputs": [
    {
     "output_type": "stream",
     "name": "stdout",
     "text": [
      "id INTEGER\n",
      "Accident_id VARCHAR\n",
      "Severity INTEGER\n",
      "Weather_Condition VARCHAR\n",
      "Precipitation FLOAT\n",
      "Wind_Speed FLOAT\n",
      "Start_Time VARCHAR\n",
      "City VARCHAR\n",
      "State VARCHAR\n",
      "StartDate VARCHAR\n",
      "Year INTEGER\n"
     ]
    }
   ],
   "metadata": {}
  },
  {
   "cell_type": "code",
   "execution_count": 30,
   "source": [
    "from sqlalchemy.ext.automap import automap_base\n",
    "from sqlalchemy.orm import Session\n",
    "base=automap_base()\n",
    "base.prepare(engine, reflect=True)"
   ],
   "outputs": [],
   "metadata": {}
  },
  {
   "cell_type": "code",
   "execution_count": 31,
   "source": [
    "base.classes.keys()"
   ],
   "outputs": [
    {
     "output_type": "execute_result",
     "data": {
      "text/plain": [
       "['us_accidents', 'us_weather']"
      ]
     },
     "metadata": {},
     "execution_count": 31
    }
   ],
   "metadata": {}
  },
  {
   "cell_type": "code",
   "execution_count": 32,
   "source": [
    "#pd.read_sql_table('us_accidents',conn)"
   ],
   "outputs": [],
   "metadata": {}
  },
  {
   "cell_type": "code",
   "execution_count": 33,
   "source": [
    "columns = inspector.get_columns('us_accidents')\n",
    "for column in columns:\n",
    "    print(column[\"name\"], column[\"type\"])"
   ],
   "outputs": [
    {
     "output_type": "stream",
     "name": "stdout",
     "text": [
      "id INTEGER\n",
      "Accident_id VARCHAR\n",
      "Severity INTEGER\n",
      "Start_Time VARCHAR\n",
      "End_Time VARCHAR\n",
      "Start_Lat FLOAT\n",
      "Start_Lng FLOAT\n",
      "Street VARCHAR\n",
      "City VARCHAR\n",
      "State VARCHAR\n",
      "Weather_Condition VARCHAR\n",
      "Amenity BOOLEAN\n",
      "Bump BOOLEAN\n",
      "Crossing BOOLEAN\n",
      "Give_Way BOOLEAN\n",
      "Junction BOOLEAN\n",
      "No_Exit BOOLEAN\n",
      "Railway BOOLEAN\n",
      "Roundabout BOOLEAN\n",
      "Station BOOLEAN\n",
      "Stop BOOLEAN\n",
      "Traffic_Calming BOOLEAN\n",
      "Traffic_Signal BOOLEAN\n",
      "Turning_Loop BOOLEAN\n",
      "Time VARCHAR\n",
      "StartDate VARCHAR\n",
      "Year INTEGER\n"
     ]
    }
   ],
   "metadata": {}
  },
  {
   "cell_type": "code",
   "execution_count": 34,
   "source": [
    "session=Session(bind=engine)"
   ],
   "outputs": [],
   "metadata": {}
  },
  {
   "cell_type": "code",
   "execution_count": 35,
   "source": [
    "## year filter query for leafletplot\n",
    "year=2019\n",
    "results=session.query(USAccidents).filter(USAccidents.Year==year).limit(10).all()\n",
    "#print(results)\n",
    "for result in results:\n",
    "    print(result.City,result.State,result.Street,result.Start_Lat,result.Start_Lng,result.Severity,result.Weather_Condition)"
   ],
   "outputs": [
    {
     "output_type": "stream",
     "name": "stdout",
     "text": [
      "Los Angeles CA N Spring St 34.056344 -118.241267 2 Fair\n",
      "Los Angeles CA Golden State Fwy N 34.073060999999996 -118.21915600000001 2 Fair\n",
      "Los Angeles CA  Whittier Blvd 34.016994 -118.14111499999999 2 Fair\n",
      "Los Angeles CA Hollywood Fwy N 34.101681 -118.31649499999999 2 Fair\n",
      "Los Angeles CA E Olympic Blvd 34.012465999999996 -118.137455 2 Fair\n",
      "Los Angeles CA Golden State Fwy S 34.150413 -118.280699 2 Fair\n",
      "Los Angeles CA S Los Angeles St 34.032086 -118.262248 2 Fair\n",
      "San Diego CA Escondido Fwy S 32.806194 -117.11360800000001 2 Fair\n",
      "Los Angeles CA Santa Ana Fwy N 34.059158000000004 -118.245397 2 Partly Cloudy\n",
      "Dallas TX US-77 N 32.71821 -96.82807 3 Fair\n"
     ]
    }
   ],
   "metadata": {}
  },
  {
   "cell_type": "code",
   "execution_count": 36,
   "source": [
    "start='2019-01-01'\n",
    "end='2020-01-01'\n",
    "start_date = dt.datetime.strptime(start, '%Y-%m-%d').date()\n",
    "end_date=dt.datetime.strptime(end, '%Y-%m-%d').date()\n",
    "\n",
    "\n",
    "results=session.query(USAccidents.City,func.count(USAccidents.Accident_id)).group_by(USAccidents.City).\\\n",
    "                    filter(USAccidents.StartDate>=start_date).filter(USAccidents.StartDate<=end).all()\n",
    "\n",
    "print(results)"
   ],
   "outputs": [
    {
     "output_type": "stream",
     "name": "stdout",
     "text": [
      "[('Dallas', 1560), ('Los Angeles', 9380), ('New York', 447), ('San Diego', 3516)]\n"
     ]
    }
   ],
   "metadata": {}
  },
  {
   "cell_type": "code",
   "execution_count": 37,
   "source": [
    "#query for line plot with timedata\n",
    "results=session.query(USAccidents.City,func.count(USAccidents.City),func.strftime(\"%Y-%m\",USAccidents.StartDate)).\\\n",
    "                group_by(USAccidents.City,func.strftime(\"%Y-%m\",USAccidents.StartDate)).limit(10).all()\n",
    "print (results)"
   ],
   "outputs": [
    {
     "output_type": "stream",
     "name": "stdout",
     "text": [
      "[('Dallas', 195, '2019-01'), ('Dallas', 156, '2019-02'), ('Dallas', 114, '2019-03'), ('Dallas', 169, '2019-04'), ('Dallas', 168, '2019-05'), ('Dallas', 177, '2019-06'), ('Dallas', 164, '2019-07'), ('Dallas', 127, '2019-08'), ('Dallas', 101, '2019-09'), ('Dallas', 96, '2019-10')]\n"
     ]
    }
   ],
   "metadata": {}
  },
  {
   "cell_type": "code",
   "execution_count": 38,
   "source": [
    "# query for hourly accidents count in each city\n",
    "results=session.query(USAccidents.City,func.count(USAccidents.Accident_id),func.strftime(\"%H\",USAccidents.Start_Time)).\\\n",
    "                        group_by(USAccidents.City,func.strftime(\"%H\",USAccidents.Start_Time)).limit(10).all()\n",
    "print (results)\n",
    "\n"
   ],
   "outputs": [
    {
     "output_type": "stream",
     "name": "stdout",
     "text": [
      "[('Dallas', 421, '00'), ('Dallas', 398, '01'), ('Dallas', 426, '02'), ('Dallas', 429, '03'), ('Dallas', 337, '04'), ('Dallas', 436, '05'), ('Dallas', 512, '06'), ('Dallas', 427, '07'), ('Dallas', 464, '08'), ('Dallas', 437, '09')]\n"
     ]
    }
   ],
   "metadata": {}
  },
  {
   "cell_type": "code",
   "execution_count": 39,
   "source": [
    "#query for weekday wise accidents count in each city\n",
    "results=session.query(USAccidents.City,func.count(USAccidents.Accident_id),func.strftime(\"%w\",USAccidents.Start_Time)).\\\n",
    "                        group_by(USAccidents.City,func.strftime(\"%w\",USAccidents.Start_Time)).limit(10).all()\n",
    "print (results)"
   ],
   "outputs": [
    {
     "output_type": "stream",
     "name": "stdout",
     "text": [
      "[('Dallas', 1301, '0'), ('Dallas', 1588, '1'), ('Dallas', 1673, '2'), ('Dallas', 1788, '3'), ('Dallas', 1596, '4'), ('Dallas', 1591, '5'), ('Dallas', 1246, '6'), ('Los Angeles', 3247, '0'), ('Los Angeles', 4480, '1'), ('Los Angeles', 4621, '2')]\n"
     ]
    }
   ],
   "metadata": {}
  },
  {
   "cell_type": "code",
   "execution_count": 40,
   "source": [
    "results=session.query(USAccidents.Severity,func.count(USAccidents.Severity)).group_by(USAccidents.Severity).order_by(USAccidents.Severity).all()\n",
    "print(results)"
   ],
   "outputs": [
    {
     "output_type": "stream",
     "name": "stdout",
     "text": [
      "[(1, 6), (2, 48142), (3, 3412), (4, 1130)]\n"
     ]
    }
   ],
   "metadata": {}
  },
  {
   "cell_type": "code",
   "execution_count": 41,
   "source": [
    "#query citywise yearly count\n",
    "results=session.query(USAccidents.Year,func.count(USAccidents.Year),USAccidents.City).group_by(USAccidents.Year,USAccidents.City).all()\n",
    "print(results)"
   ],
   "outputs": [
    {
     "output_type": "stream",
     "name": "stdout",
     "text": [
      "[(2019, 1560, 'Dallas'), (2019, 9380, 'Los Angeles'), (2019, 447, 'New York'), (2019, 3516, 'San Diego'), (2020, 9223, 'Dallas'), (2020, 19930, 'Los Angeles'), (2020, 2104, 'New York'), (2020, 6530, 'San Diego')]\n"
     ]
    }
   ],
   "metadata": {}
  },
  {
   "cell_type": "code",
   "execution_count": 42,
   "source": [
    "#query weather condition\n",
    "results=session.query(USAccidents.Weather_Condition,USAccidents.Year,USAccidents.City,func.count(USAccidents.Year)).group_by(USAccidents.Year,USAccidents.City,USAccidents.Weather_Condition).limit(10).all()\n",
    "print(results)"
   ],
   "outputs": [
    {
     "output_type": "stream",
     "name": "stdout",
     "text": [
      "[(None, 2019, 'Dallas', 14), ('Clear', 2019, 'Dallas', 85), ('Cloudy', 2019, 'Dallas', 192), ('Cloudy / Windy', 2019, 'Dallas', 7), ('Drizzle', 2019, 'Dallas', 4), ('Fair', 2019, 'Dallas', 488), ('Fair / Windy', 2019, 'Dallas', 5), ('Fog', 2019, 'Dallas', 4), ('Haze', 2019, 'Dallas', 6), ('Heavy Rain', 2019, 'Dallas', 1)]\n"
     ]
    }
   ],
   "metadata": {}
  },
  {
   "cell_type": "code",
   "execution_count": 43,
   "source": [
    "#query to find relatio among precipitation, windspeed, severity\n",
    "results=session.query(USWeather.Precipitation,USWeather.Wind_Speed,USWeather.Severity).limit(10).all() \n",
    "print(results)"
   ],
   "outputs": [
    {
     "output_type": "stream",
     "name": "stdout",
     "text": [
      "[(0.0, 0.0, 2), (0.0, 7.0, 2), (0.0, 12.0, 2), (0.0, 0.0, 2), (0.0, 3.0, 2), (0.0, 13.0, 2), (0.0, 5.0, 2), (0.0, 8.0, 2), (0.0, 6.0, 2), (0.0, 3.0, 2)]\n"
     ]
    }
   ],
   "metadata": {}
  },
  {
   "cell_type": "code",
   "execution_count": 44,
   "source": [
    "#query for accidents due to different road condition in two years \n",
    "\n",
    "Bump_accidents=session.query(USAccidents.Year,func.count(USAccidents.Year)).group_by(USAccidents.Year).filter(USAccidents.Bump==True).all()\n",
    "Junction_accidents=session.query(USAccidents.Year,func.count(USAccidents.Year)).group_by(USAccidents.Year).filter(USAccidents.Junction==True).all()\n",
    "No_Exit_accidents=session.query(USAccidents.Year,func.count(USAccidents.Year)).group_by(USAccidents.Year).filter(USAccidents.No_Exit==True).all()\n",
    "Railway_accidents=session.query(USAccidents.Year,func.count(USAccidents.Year)).group_by(USAccidents.Year).filter(USAccidents.Railway==True).all()\n",
    "Station_accidents=session.query(USAccidents.Year,func.count(USAccidents.Year)).group_by(USAccidents.Year).filter(USAccidents.Station==True).all()\n",
    "Stop_accidents=session.query(USAccidents.Year,func.count(USAccidents.Year)).group_by(USAccidents.Year).filter(USAccidents.Stop==True).all()\n",
    "Traffic_Calming_accidents=session.query(USAccidents.Year,func.count(USAccidents.Year)).group_by(USAccidents.Year).filter(USAccidents.Traffic_Calming==True).all()\n",
    "Traffic_Signal_accidents=session.query(USAccidents.Year,func.count(USAccidents.Year)).group_by(USAccidents.Year).filter(USAccidents.Traffic_Signal==True).all()\n",
    "\n",
    "print(f'''Bump_accidents:{Bump_accidents},Junction_accidents:{Junction_accidents},No_Exit_accidents:{No_Exit_accidents},\n",
    "Railway_accidents:{Railway_accidents},Station_accidents:{Station_accidents},\n",
    "Stop_accidents:{Stop_accidents},Traffic_Calming_accidents:{Traffic_Calming_accidents},Traffic_Signal_accidents:{Traffic_Signal_accidents}''')\n",
    "\n"
   ],
   "outputs": [
    {
     "output_type": "stream",
     "name": "stdout",
     "text": [
      "Bump_accidents:[(2019, 2), (2020, 6)],Junction_accidents:[(2019, 2379), (2020, 5468)],No_Exit_accidents:[(2019, 12), (2020, 131)],\n",
      "Railway_accidents:[(2019, 256), (2020, 621)],Station_accidents:[(2019, 554), (2020, 1062)],\n",
      "Stop_accidents:[(2019, 173), (2020, 313)],Traffic_Calming_accidents:[(2019, 2), (2020, 6)],Traffic_Signal_accidents:[(2019, 1667), (2020, 5414)]\n"
     ]
    }
   ],
   "metadata": {}
  },
  {
   "cell_type": "code",
   "execution_count": 45,
   "source": [
    "#query for accidents in day and night time\n",
    "# sqlalchemy import or_\n",
    "#evestart=dt.datetime.strptime('17:00:00', '%H:%M:%S').time()\n",
    "#midnight=dt.datetime.strptime('24:00:00', '%H:%M:%S').time()\n",
    "#morningstart=dt.datetime.strptime('00:00:00', '%H:%M:%S').time()\n",
    "#daystart=dt.datetime.strptime('05:00:00', '%H:%M:%S').time()\n",
    "\n",
    "#day_accidents_count=session.query(USAccidents).filter(USAccidents.Time>daystart,USAccidents.Time<evestart).count"
   ],
   "outputs": [],
   "metadata": {}
  },
  {
   "cell_type": "code",
   "execution_count": null,
   "source": [],
   "outputs": [],
   "metadata": {}
  },
  {
   "cell_type": "code",
   "execution_count": null,
   "source": [],
   "outputs": [],
   "metadata": {}
  }
 ],
 "metadata": {
  "kernelspec": {
   "name": "python3",
   "display_name": "Python 3.6.10 64-bit ('ucsdvevn': conda)"
  },
  "language_info": {
   "codemirror_mode": {
    "name": "ipython",
    "version": 3
   },
   "file_extension": ".py",
   "mimetype": "text/x-python",
   "name": "python",
   "nbconvert_exporter": "python",
   "pygments_lexer": "ipython3",
   "version": "3.6.10"
  },
  "interpreter": {
   "hash": "00fc9d1ba54e128ec38ca51cda85132e3ae3f551dd45728d4fa6f2326dd53264"
  }
 },
 "nbformat": 4,
 "nbformat_minor": 4
}